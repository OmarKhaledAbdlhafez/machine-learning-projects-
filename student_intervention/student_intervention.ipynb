{
  "nbformat": 4,
  "nbformat_minor": 0,
  "metadata": {
    "kernelspec": {
      "display_name": "Python 2",
      "language": "python",
      "name": "python2"
    },
    "language_info": {
      "codemirror_mode": {
        "name": "ipython",
        "version": 2
      },
      "file_extension": ".py",
      "mimetype": "text/x-python",
      "name": "python",
      "nbconvert_exporter": "python",
      "pygments_lexer": "ipython2",
      "version": "2.7.11"
    },
    "colab": {
      "name": "student_intervention.ipynb",
      "provenance": [],
      "include_colab_link": true
    }
  },
  "cells": [
    {
      "cell_type": "markdown",
      "metadata": {
        "id": "view-in-github",
        "colab_type": "text"
      },
      "source": [
        "<a href=\"https://colab.research.google.com/github/OmarKhaledAbdlhafez/machine-learning-projects-/blob/master/student_intervention/student_intervention.ipynb\" target=\"_parent\"><img src=\"https://colab.research.google.com/assets/colab-badge.svg\" alt=\"Open In Colab\"/></a>"
      ]
    },
    {
      "cell_type": "markdown",
      "metadata": {
        "id": "q-oi65blzyu8",
        "colab_type": "text"
      },
      "source": [
        "# Machine Learning Engineer Nanodegree\n",
        "## Supervised Learning\n",
        "## Project: Building a Student Intervention System"
      ]
    },
    {
      "cell_type": "markdown",
      "metadata": {
        "id": "23oxKvuyzyvF",
        "colab_type": "text"
      },
      "source": [
        "Welcome to the second project of the Machine Learning Engineer Nanodegree! In this notebook, some template code has already been provided for you, and it will be your job to implement the additional functionality necessary to successfully complete this project. Sections that begin with **'Implementation'** in the header indicate that the following block of code will require additional functionality which you must provide. Instructions will be provided for each section and the specifics of the implementation are marked in the code block with a `'TODO'` statement. Please be sure to read the instructions carefully!\n",
        "\n",
        "In addition to implementing code, there will be questions that you must answer which relate to the project and your implementation. Each section where you will answer a question is preceded by a **'Question X'** header. Carefully read each question and provide thorough answers in the following text boxes that begin with **'Answer:'**. Your project submission will be evaluated based on your answers to each of the questions and the implementation you provide.  \n",
        "\n",
        ">**Note:** Code and Markdown cells can be executed using the **Shift + Enter** keyboard shortcut. In addition, Markdown cells can be edited by typically double-clicking the cell to enter edit mode."
      ]
    },
    {
      "cell_type": "markdown",
      "metadata": {
        "id": "OTgZXvE-zyvR",
        "colab_type": "text"
      },
      "source": [
        "### Question 1 - Classification vs. Regression\n",
        "*Your goal for this project is to identify students who might need early intervention before they fail to graduate. Which type of supervised learning problem is this, classification or regression? Why?*"
      ]
    },
    {
      "cell_type": "markdown",
      "metadata": {
        "id": "V2fTLQzDzyvW",
        "colab_type": "text"
      },
      "source": [
        "**Answer: **"
      ]
    },
    {
      "cell_type": "markdown",
      "metadata": {
        "id": "_08-AgxKzyva",
        "colab_type": "text"
      },
      "source": [
        "## Exploring the Data\n",
        "Run the code cell below to load necessary Python libraries and load the student data. Note that the last column from this dataset, `'passed'`, will be our target label (whether the student graduated or didn't graduate). All other columns are features about each student."
      ]
    },
    {
      "cell_type": "code",
      "metadata": {
        "id": "dYp2Fk8dzyve",
        "colab_type": "code",
        "colab": {
          "base_uri": "https://localhost:8080/",
          "height": 35
        },
        "outputId": "525e9fa4-4288-427c-cc74-b8e854580d8f"
      },
      "source": [
        "# Import libraries\n",
        "import numpy as np\n",
        "import pandas as pd\n",
        "from time import time\n",
        "from sklearn.metrics import f1_score\n",
        "\n",
        "# Read student data\n",
        "student_data = pd.read_csv(\"student-data.csv\")\n",
        "print (\"Student data read successfully!\")"
      ],
      "execution_count": 6,
      "outputs": [
        {
          "output_type": "stream",
          "text": [
            "Student data read successfully!\n"
          ],
          "name": "stdout"
        }
      ]
    },
    {
      "cell_type": "code",
      "metadata": {
        "id": "Y_up-jzI0RBZ",
        "colab_type": "code",
        "colab": {
          "base_uri": "https://localhost:8080/",
          "height": 218
        },
        "outputId": "b78fda77-f33c-49b1-d1cd-2745f4202c8d"
      },
      "source": [
        "student_data.head()"
      ],
      "execution_count": 7,
      "outputs": [
        {
          "output_type": "execute_result",
          "data": {
            "text/plain": [
              "  school sex  age address famsize  ... Dalc  Walc  health absences passed\n",
              "0     GP   F   18       U     GT3  ...    1     1       3        6     no\n",
              "1     GP   F   17       U     GT3  ...    1     1       3        4     no\n",
              "2     GP   F   15       U     LE3  ...    2     3       3       10    yes\n",
              "3     GP   F   15       U     GT3  ...    1     1       5        2    yes\n",
              "4     GP   F   16       U     GT3  ...    1     2       5        4    yes\n",
              "\n",
              "[5 rows x 31 columns]"
            ],
            "text/html": [
              "<div>\n",
              "<style scoped>\n",
              "    .dataframe tbody tr th:only-of-type {\n",
              "        vertical-align: middle;\n",
              "    }\n",
              "\n",
              "    .dataframe tbody tr th {\n",
              "        vertical-align: top;\n",
              "    }\n",
              "\n",
              "    .dataframe thead th {\n",
              "        text-align: right;\n",
              "    }\n",
              "</style>\n",
              "<table border=\"1\" class=\"dataframe\">\n",
              "  <thead>\n",
              "    <tr style=\"text-align: right;\">\n",
              "      <th></th>\n",
              "      <th>school</th>\n",
              "      <th>sex</th>\n",
              "      <th>age</th>\n",
              "      <th>address</th>\n",
              "      <th>famsize</th>\n",
              "      <th>Pstatus</th>\n",
              "      <th>Medu</th>\n",
              "      <th>Fedu</th>\n",
              "      <th>Mjob</th>\n",
              "      <th>Fjob</th>\n",
              "      <th>reason</th>\n",
              "      <th>guardian</th>\n",
              "      <th>traveltime</th>\n",
              "      <th>studytime</th>\n",
              "      <th>failures</th>\n",
              "      <th>schoolsup</th>\n",
              "      <th>famsup</th>\n",
              "      <th>paid</th>\n",
              "      <th>activities</th>\n",
              "      <th>nursery</th>\n",
              "      <th>higher</th>\n",
              "      <th>internet</th>\n",
              "      <th>romantic</th>\n",
              "      <th>famrel</th>\n",
              "      <th>freetime</th>\n",
              "      <th>goout</th>\n",
              "      <th>Dalc</th>\n",
              "      <th>Walc</th>\n",
              "      <th>health</th>\n",
              "      <th>absences</th>\n",
              "      <th>passed</th>\n",
              "    </tr>\n",
              "  </thead>\n",
              "  <tbody>\n",
              "    <tr>\n",
              "      <th>0</th>\n",
              "      <td>GP</td>\n",
              "      <td>F</td>\n",
              "      <td>18</td>\n",
              "      <td>U</td>\n",
              "      <td>GT3</td>\n",
              "      <td>A</td>\n",
              "      <td>4</td>\n",
              "      <td>4</td>\n",
              "      <td>at_home</td>\n",
              "      <td>teacher</td>\n",
              "      <td>course</td>\n",
              "      <td>mother</td>\n",
              "      <td>2</td>\n",
              "      <td>2</td>\n",
              "      <td>0</td>\n",
              "      <td>yes</td>\n",
              "      <td>no</td>\n",
              "      <td>no</td>\n",
              "      <td>no</td>\n",
              "      <td>yes</td>\n",
              "      <td>yes</td>\n",
              "      <td>no</td>\n",
              "      <td>no</td>\n",
              "      <td>4</td>\n",
              "      <td>3</td>\n",
              "      <td>4</td>\n",
              "      <td>1</td>\n",
              "      <td>1</td>\n",
              "      <td>3</td>\n",
              "      <td>6</td>\n",
              "      <td>no</td>\n",
              "    </tr>\n",
              "    <tr>\n",
              "      <th>1</th>\n",
              "      <td>GP</td>\n",
              "      <td>F</td>\n",
              "      <td>17</td>\n",
              "      <td>U</td>\n",
              "      <td>GT3</td>\n",
              "      <td>T</td>\n",
              "      <td>1</td>\n",
              "      <td>1</td>\n",
              "      <td>at_home</td>\n",
              "      <td>other</td>\n",
              "      <td>course</td>\n",
              "      <td>father</td>\n",
              "      <td>1</td>\n",
              "      <td>2</td>\n",
              "      <td>0</td>\n",
              "      <td>no</td>\n",
              "      <td>yes</td>\n",
              "      <td>no</td>\n",
              "      <td>no</td>\n",
              "      <td>no</td>\n",
              "      <td>yes</td>\n",
              "      <td>yes</td>\n",
              "      <td>no</td>\n",
              "      <td>5</td>\n",
              "      <td>3</td>\n",
              "      <td>3</td>\n",
              "      <td>1</td>\n",
              "      <td>1</td>\n",
              "      <td>3</td>\n",
              "      <td>4</td>\n",
              "      <td>no</td>\n",
              "    </tr>\n",
              "    <tr>\n",
              "      <th>2</th>\n",
              "      <td>GP</td>\n",
              "      <td>F</td>\n",
              "      <td>15</td>\n",
              "      <td>U</td>\n",
              "      <td>LE3</td>\n",
              "      <td>T</td>\n",
              "      <td>1</td>\n",
              "      <td>1</td>\n",
              "      <td>at_home</td>\n",
              "      <td>other</td>\n",
              "      <td>other</td>\n",
              "      <td>mother</td>\n",
              "      <td>1</td>\n",
              "      <td>2</td>\n",
              "      <td>3</td>\n",
              "      <td>yes</td>\n",
              "      <td>no</td>\n",
              "      <td>yes</td>\n",
              "      <td>no</td>\n",
              "      <td>yes</td>\n",
              "      <td>yes</td>\n",
              "      <td>yes</td>\n",
              "      <td>no</td>\n",
              "      <td>4</td>\n",
              "      <td>3</td>\n",
              "      <td>2</td>\n",
              "      <td>2</td>\n",
              "      <td>3</td>\n",
              "      <td>3</td>\n",
              "      <td>10</td>\n",
              "      <td>yes</td>\n",
              "    </tr>\n",
              "    <tr>\n",
              "      <th>3</th>\n",
              "      <td>GP</td>\n",
              "      <td>F</td>\n",
              "      <td>15</td>\n",
              "      <td>U</td>\n",
              "      <td>GT3</td>\n",
              "      <td>T</td>\n",
              "      <td>4</td>\n",
              "      <td>2</td>\n",
              "      <td>health</td>\n",
              "      <td>services</td>\n",
              "      <td>home</td>\n",
              "      <td>mother</td>\n",
              "      <td>1</td>\n",
              "      <td>3</td>\n",
              "      <td>0</td>\n",
              "      <td>no</td>\n",
              "      <td>yes</td>\n",
              "      <td>yes</td>\n",
              "      <td>yes</td>\n",
              "      <td>yes</td>\n",
              "      <td>yes</td>\n",
              "      <td>yes</td>\n",
              "      <td>yes</td>\n",
              "      <td>3</td>\n",
              "      <td>2</td>\n",
              "      <td>2</td>\n",
              "      <td>1</td>\n",
              "      <td>1</td>\n",
              "      <td>5</td>\n",
              "      <td>2</td>\n",
              "      <td>yes</td>\n",
              "    </tr>\n",
              "    <tr>\n",
              "      <th>4</th>\n",
              "      <td>GP</td>\n",
              "      <td>F</td>\n",
              "      <td>16</td>\n",
              "      <td>U</td>\n",
              "      <td>GT3</td>\n",
              "      <td>T</td>\n",
              "      <td>3</td>\n",
              "      <td>3</td>\n",
              "      <td>other</td>\n",
              "      <td>other</td>\n",
              "      <td>home</td>\n",
              "      <td>father</td>\n",
              "      <td>1</td>\n",
              "      <td>2</td>\n",
              "      <td>0</td>\n",
              "      <td>no</td>\n",
              "      <td>yes</td>\n",
              "      <td>yes</td>\n",
              "      <td>no</td>\n",
              "      <td>yes</td>\n",
              "      <td>yes</td>\n",
              "      <td>no</td>\n",
              "      <td>no</td>\n",
              "      <td>4</td>\n",
              "      <td>3</td>\n",
              "      <td>2</td>\n",
              "      <td>1</td>\n",
              "      <td>2</td>\n",
              "      <td>5</td>\n",
              "      <td>4</td>\n",
              "      <td>yes</td>\n",
              "    </tr>\n",
              "  </tbody>\n",
              "</table>\n",
              "</div>"
            ]
          },
          "metadata": {
            "tags": []
          },
          "execution_count": 7
        }
      ]
    },
    {
      "cell_type": "code",
      "metadata": {
        "id": "Km6yrorK0fAd",
        "colab_type": "code",
        "colab": {
          "base_uri": "https://localhost:8080/",
          "height": 35
        },
        "outputId": "a8493c6d-fb0e-4c7c-921d-71a9ddcfd1f3"
      },
      "source": [
        "degree = student_data.passed\n",
        "passed = degree[degree=='yes'].shape[0]\n",
        "print(passed)"
      ],
      "execution_count": 5,
      "outputs": [
        {
          "output_type": "stream",
          "text": [
            "265\n"
          ],
          "name": "stdout"
        }
      ]
    },
    {
      "cell_type": "markdown",
      "metadata": {
        "id": "bs2Sz111zyvz",
        "colab_type": "text"
      },
      "source": [
        "### Implementation: Data Exploration\n",
        "Let's begin by investigating the dataset to determine how many students we have information on, and learn about the graduation rate among these students. In the code cell below, you will need to compute the following:\n",
        "- The total number of students, `n_students`.\n",
        "- The total number of features for each student, `n_features`.\n",
        "- The number of those students who passed, `n_passed`.\n",
        "- The number of those students who failed, `n_failed`.\n",
        "- The graduation rate of the class, `grad_rate`, in percent (%).\n"
      ]
    },
    {
      "cell_type": "code",
      "metadata": {
        "id": "oMEIUKnYzyv2",
        "colab_type": "code",
        "colab": {
          "base_uri": "https://localhost:8080/",
          "height": 108
        },
        "outputId": "3c9db4b6-f4ff-4514-b29a-ac4bdfe433cb"
      },
      "source": [
        "# TODO: Calculate number of students\n",
        "n_students = student_data.shape[0]\n",
        "\n",
        "# TODO: Calculate number of features\n",
        "n_features = student_data.shape[1]-1\n",
        "\n",
        "# TODO: Calculate passing students\n",
        "degree = student_data.passed\n",
        "passed = degree[degree=='yes'].shape[0]\n",
        "fail=degree[degree=='no'].shape[0]\n",
        "n_passed = passed\n",
        "\n",
        "# TODO: Calculate failing students\n",
        "n_failed = fail\n",
        "\n",
        "# TODO: Calculate graduation rate\n",
        "grad_rate = (n_passed / n_students) * 100\n",
        "\n",
        "# Print the results\n",
        "print (\"Total number of students: {}\".format(n_students))\n",
        "print (\"Number of features: {}\".format(n_features))\n",
        "print (\"Number of students who passed: {}\".format(n_passed))\n",
        "print (\"Number of students who failed: {}\".format(n_failed))\n",
        "print (\"Graduation rate of the class: {:.2f}%\".format(grad_rate))"
      ],
      "execution_count": 8,
      "outputs": [
        {
          "output_type": "stream",
          "text": [
            "Total number of students: 395\n",
            "Number of features: 30\n",
            "Number of students who passed: 265\n",
            "Number of students who failed: 130\n",
            "Graduation rate of the class: 0.00%\n"
          ],
          "name": "stdout"
        }
      ]
    },
    {
      "cell_type": "markdown",
      "metadata": {
        "id": "PCE-0PHOzywE",
        "colab_type": "text"
      },
      "source": [
        "## Preparing the Data\n",
        "In this section, we will prepare the data for modeling, training and testing.\n",
        "\n",
        "### Identify feature and target columns\n",
        "It is often the case that the data you obtain contains non-numeric features. This can be a problem, as most machine learning algorithms expect numeric data to perform computations with.\n",
        "\n",
        "Run the code cell below to separate the student data into feature and target columns to see if any features are non-numeric."
      ]
    },
    {
      "cell_type": "code",
      "metadata": {
        "id": "M27jY_xLzywG",
        "colab_type": "code",
        "colab": {
          "base_uri": "https://localhost:8080/",
          "height": 292
        },
        "outputId": "dc81c651-bc83-45b1-ede6-e79bf1183e7d"
      },
      "source": [
        "# Extract feature columns\n",
        "feature_cols = list(student_data.columns[:-1])\n",
        "\n",
        "# Extract target column 'passed'\n",
        "target_col = student_data.columns[-1] \n",
        "\n",
        "# Show the list of columns\n",
        "print (\"Feature columns:\\n{}\".format(feature_cols))\n",
        "print (\"\\nTarget column: {}\".format(target_col))\n",
        "\n",
        "# Separate the data into feature data and target data (X_all and y_all, respectively)\n",
        "X_all = student_data[feature_cols]\n",
        "y_all = student_data[target_col]\n",
        "\n",
        "# Show the feature information by printing the first five rows\n",
        "print (\"\\nFeature values:\")\n",
        "print (X_all.head())"
      ],
      "execution_count": 9,
      "outputs": [
        {
          "output_type": "stream",
          "text": [
            "Feature columns:\n",
            "['school', 'sex', 'age', 'address', 'famsize', 'Pstatus', 'Medu', 'Fedu', 'Mjob', 'Fjob', 'reason', 'guardian', 'traveltime', 'studytime', 'failures', 'schoolsup', 'famsup', 'paid', 'activities', 'nursery', 'higher', 'internet', 'romantic', 'famrel', 'freetime', 'goout', 'Dalc', 'Walc', 'health', 'absences']\n",
            "\n",
            "Target column: passed\n",
            "\n",
            "Feature values:\n",
            "  school sex  age address famsize  ... goout  Dalc  Walc health absences\n",
            "0     GP   F   18       U     GT3  ...     4     1     1      3        6\n",
            "1     GP   F   17       U     GT3  ...     3     1     1      3        4\n",
            "2     GP   F   15       U     LE3  ...     2     2     3      3       10\n",
            "3     GP   F   15       U     GT3  ...     2     1     1      5        2\n",
            "4     GP   F   16       U     GT3  ...     2     1     2      5        4\n",
            "\n",
            "[5 rows x 30 columns]\n"
          ],
          "name": "stdout"
        }
      ]
    },
    {
      "cell_type": "markdown",
      "metadata": {
        "id": "5lWdZBGXzywU",
        "colab_type": "text"
      },
      "source": [
        "### Preprocess Feature Columns\n",
        "\n",
        "As you can see, there are several non-numeric columns that need to be converted! Many of them are simply `yes`/`no`, e.g. `internet`. These can be reasonably converted into `1`/`0` (binary) values.\n",
        "\n",
        "Other columns, like `Mjob` and `Fjob`, have more than two values, and are known as _categorical variables_. The recommended way to handle such a column is to create as many columns as possible values (e.g. `Fjob_teacher`, `Fjob_other`, `Fjob_services`, etc.), and assign a `1` to one of them and `0` to all others.\n",
        "\n",
        "These generated columns are sometimes called _dummy variables_, and we will use the [`pandas.get_dummies()`](http://pandas.pydata.org/pandas-docs/stable/generated/pandas.get_dummies.html?highlight=get_dummies#pandas.get_dummies) function to perform this transformation. Run the code cell below to perform the preprocessing routine discussed in this section."
      ]
    },
    {
      "cell_type": "code",
      "metadata": {
        "id": "-KIP8lm5zywW",
        "colab_type": "code",
        "colab": {
          "base_uri": "https://localhost:8080/",
          "height": 74
        },
        "outputId": "3fc7cff1-2c83-40aa-b420-1fa435ce5c54"
      },
      "source": [
        "def preprocess_features(X):\n",
        "    ''' Preprocesses the student data and converts non-numeric binary variables into\n",
        "        binary (0/1) variables. Converts categorical variables into dummy variables. '''\n",
        "    \n",
        "    # Initialize new output DataFrame\n",
        "    output = pd.DataFrame(index = X.index)\n",
        "\n",
        "    # Investigate each feature column for the data\n",
        "    for col, col_data in X.iteritems():\n",
        "        \n",
        "        # If data type is non-numeric, replace all yes/no values with 1/0\n",
        "        if col_data.dtype == object:\n",
        "            col_data = col_data.replace(['yes', 'no'], [1, 0])\n",
        "\n",
        "        # If data type is categorical, convert to dummy variables\n",
        "        if col_data.dtype == object:\n",
        "            # Example: 'school' => 'school_GP' and 'school_MS'\n",
        "            col_data = pd.get_dummies(col_data, prefix = col)  \n",
        "        \n",
        "        # Collect the revised columns\n",
        "        output = output.join(col_data)\n",
        "    \n",
        "    return output\n",
        "\n",
        "X_all = preprocess_features(X_all)\n",
        "print (\"Processed feature columns ({} total features):\\n{}\".format(len(X_all.columns), list(X_all.columns)))"
      ],
      "execution_count": 10,
      "outputs": [
        {
          "output_type": "stream",
          "text": [
            "Processed feature columns (48 total features):\n",
            "['school_GP', 'school_MS', 'sex_F', 'sex_M', 'age', 'address_R', 'address_U', 'famsize_GT3', 'famsize_LE3', 'Pstatus_A', 'Pstatus_T', 'Medu', 'Fedu', 'Mjob_at_home', 'Mjob_health', 'Mjob_other', 'Mjob_services', 'Mjob_teacher', 'Fjob_at_home', 'Fjob_health', 'Fjob_other', 'Fjob_services', 'Fjob_teacher', 'reason_course', 'reason_home', 'reason_other', 'reason_reputation', 'guardian_father', 'guardian_mother', 'guardian_other', 'traveltime', 'studytime', 'failures', 'schoolsup', 'famsup', 'paid', 'activities', 'nursery', 'higher', 'internet', 'romantic', 'famrel', 'freetime', 'goout', 'Dalc', 'Walc', 'health', 'absences']\n"
          ],
          "name": "stdout"
        }
      ]
    },
    {
      "cell_type": "markdown",
      "metadata": {
        "id": "occX-UIxzywi",
        "colab_type": "text"
      },
      "source": [
        "### Implementation: Training and Testing Data Split\n",
        "So far, we have converted all _categorical_ features into numeric values. For the next step, we split the data (both features and corresponding labels) into training and test sets. In the following code cell below, you will need to implement the following:\n",
        "- Randomly shuffle and split the data (`X_all`, `y_all`) into training and testing subsets.\n",
        "  - Use 300 training points (approximately 75%) and 95 testing points (approximately 25%).\n",
        "  - Set a `random_state` for the function(s) you use, if provided.\n",
        "  - Store the results in `X_train`, `X_test`, `y_train`, and `y_test`."
      ]
    },
    {
      "cell_type": "code",
      "metadata": {
        "id": "NuNlJ9egzywk",
        "colab_type": "code",
        "colab": {
          "base_uri": "https://localhost:8080/",
          "height": 54
        },
        "outputId": "36de41f6-073e-4433-eda3-b8fa4b512fd6"
      },
      "source": [
        "# TODO: Import any additional functionality you may need here\n",
        "from sklearn.model_selection import train_test_split\n",
        "# TODO: Set the number of training points\n",
        "num_train = .2*n_students\n",
        "\n",
        "# Set the number of testing points\n",
        "num_test = X_all.shape[0] - num_train\n",
        "\n",
        "# TODO: Shuffle and split the dataset into the number of training and testing points above\n",
        "X_train ,X_test ,y_train,y_test = train_test_split(X_all, y_all,test_size=0.2, random_state=42)\n",
        "\n",
        "# Show the results of the split\n",
        "print (\"Training set has {} samples.\".format(X_train.shape[0]))\n",
        "print (\"Testing set has {} samples.\".format(X_test.shape[0]))"
      ],
      "execution_count": 11,
      "outputs": [
        {
          "output_type": "stream",
          "text": [
            "Training set has 316 samples.\n",
            "Testing set has 79 samples.\n"
          ],
          "name": "stdout"
        }
      ]
    },
    {
      "cell_type": "markdown",
      "metadata": {
        "id": "aopKHgA7zyw1",
        "colab_type": "text"
      },
      "source": [
        "## Training and Evaluating Models\n",
        "In this section, you will choose 3 supervised learning models that are appropriate for this problem and available in `scikit-learn`. You will first discuss the reasoning behind choosing these three models by considering what you know about the data and each model's strengths and weaknesses. You will then fit the model to varying sizes of training data (100 data points, 200 data points, and 300 data points) and measure the F<sub>1</sub> score. You will need to produce three tables (one for each model) that shows the training set size, training time, prediction time, F<sub>1</sub> score on the training set, and F<sub>1</sub> score on the testing set.\n",
        "\n",
        "**The following supervised learning models are currently available in** [`scikit-learn`](http://scikit-learn.org/stable/supervised_learning.html) **that you may choose from:**\n",
        "- Gaussian Naive Bayes (GaussianNB)\n",
        "- Decision Trees\n",
        "- Ensemble Methods (Bagging, AdaBoost, Random Forest, Gradient Boosting)\n",
        "- K-Nearest Neighbors (KNeighbors)\n",
        "- Stochastic Gradient Descent (SGDC)\n",
        "- Support Vector Machines (SVM)\n",
        "- Logistic Regression"
      ]
    },
    {
      "cell_type": "markdown",
      "metadata": {
        "id": "NOfoTKNqzyw4",
        "colab_type": "text"
      },
      "source": [
        "### Question 2 - Model Application\n",
        "*List three supervised learning models that are appropriate for this problem. For each model chosen*\n",
        "- Describe one real-world application in industry where the model can be applied. *(You may need to do a small bit of research for this — give references!)* \n",
        "- What are the strengths of the model; when does it perform well? \n",
        "- What are the weaknesses of the model; when does it perform poorly?\n",
        "- What makes this model a good candidate for the problem, given what you know about the data?"
      ]
    },
    {
      "cell_type": "markdown",
      "metadata": {
        "id": "XTx5oYfFzyw7",
        "colab_type": "text"
      },
      "source": [
        "**Answer: **"
      ]
    },
    {
      "cell_type": "markdown",
      "metadata": {
        "id": "dv22GPU5zyw9",
        "colab_type": "text"
      },
      "source": [
        "### Setup\n",
        "Run the code cell below to initialize three helper functions which you can use for training and testing the three supervised learning models you've chosen above. The functions are as follows:\n",
        "- `train_classifier` - takes as input a classifier and training data and fits the classifier to the data.\n",
        "- `predict_labels` - takes as input a fit classifier, features, and a target labeling and makes predictions using the F<sub>1</sub> score.\n",
        "- `train_predict` - takes as input a classifier, and the training and testing data, and performs `train_clasifier` and `predict_labels`.\n",
        " - This function will report the F<sub>1</sub> score for both the training and testing data separately."
      ]
    },
    {
      "cell_type": "code",
      "metadata": {
        "id": "H1Hme8dlzyxC",
        "colab_type": "code",
        "colab": {}
      },
      "source": [
        "def train_classifier(clf, X_train, y_train):\n",
        "    ''' Fits a classifier to the training data. '''\n",
        "    \n",
        "    # Start the clock, train the classifier, then stop the clock\n",
        "    start = time()\n",
        "    clf.fit(X_train, y_train)\n",
        "    end = time()\n",
        "    \n",
        "    # Print the results\n",
        "    print (\"Trained model in {:.4f} seconds\".format(end - start))\n",
        "\n",
        "    \n",
        "def predict_labels(clf, features, target):\n",
        "    ''' Makes predictions using a fit classifier based on F1 score. '''\n",
        "    \n",
        "    # Start the clock, make predictions, then stop the clock\n",
        "    start = time()\n",
        "    y_pred = clf.predict(features)\n",
        "    end = time()\n",
        "    \n",
        "    # Print and return results\n",
        "    print (\"Made predictions in {:.4f} seconds.\".format(end - start))\n",
        "    return f1_score(target.values, y_pred, pos_label='yes')\n",
        "\n",
        "\n",
        "def train_predict(clf, X_train, y_train, X_test, y_test):\n",
        "    ''' Train and predict using a classifer based on F1 score. '''\n",
        "    \n",
        "    # Indicate the classifier and the training set size\n",
        "    print (\"Training a {} using a training set size of {}. . .\".format(clf.__class__.__name__, len(X_train)))\n",
        "    \n",
        "    # Train the classifier\n",
        "    train_classifier(clf, X_train, y_train)\n",
        "    \n",
        "    # Print the results of prediction for both training and testing\n",
        "    print (\"F1 score for training set: {:.4f}.\".format(predict_labels(clf, X_train, y_train)))\n",
        "    print (\"F1 score for test set: {:.4f}.\".format(predict_labels(clf, X_test, y_test)))"
      ],
      "execution_count": 0,
      "outputs": []
    },
    {
      "cell_type": "markdown",
      "metadata": {
        "id": "ui4UtKNhzyxV",
        "colab_type": "text"
      },
      "source": [
        "### Implementation: Model Performance Metrics\n",
        "With the predefined functions above, you will now import the three supervised learning models of your choice and run the `train_predict` function for each one. Remember that you will need to train and predict on each classifier for three different training set sizes: 100, 200, and 300. Hence, you should expect to have 9 different outputs below — 3 for each model using the varying training set sizes. In the following code cell, you will need to implement the following:\n",
        "- Import the three supervised learning models you've discussed in the previous section.\n",
        "- Initialize the three models and store them in `clf_A`, `clf_B`, and `clf_C`.\n",
        " - Use a `random_state` for each model you use, if provided.\n",
        " - **Note:** Use the default settings for each model — you will tune one specific model in a later section.\n",
        "- Create the different training set sizes to be used to train each model.\n",
        " - *Do not reshuffle and resplit the data! The new training points should be drawn from `X_train` and `y_train`.*\n",
        "- Fit each model with each training set size and make predictions on the test set (9 in total).  \n",
        "**Note:** Three tables are provided after the following code cell which can be used to store your results."
      ]
    },
    {
      "cell_type": "code",
      "metadata": {
        "id": "Jw7kAf4uzyxb",
        "colab_type": "code",
        "colab": {
          "base_uri": "https://localhost:8080/",
          "height": 1000
        },
        "outputId": "db9860a2-4ce7-411e-ea8a-832023497b9c"
      },
      "source": [
        "# TODO: Import the three supervised learning models from sklearn\n",
        "# from sklearn import model_A\n",
        "# from sklearn import model_B\n",
        "# from sklearn import model_C\n",
        "from sklearn.svm import SVC\n",
        "from sklearn.tree import DecisionTreeClassifier\n",
        "from sklearn.naive_bayes import GaussianNB\n",
        "\n",
        "# TODO: Initialize the three models\n",
        "clf_A = SVC()\n",
        "clf_B = DecisionTreeClassifier()\n",
        "clf_C = GaussianNB()\n",
        "\n",
        "# TODO: Set up the training set sizes\n",
        "for clf in [clf_A, clf_B, clf_C]:\n",
        "    print (\"==============================================================\")\n",
        "    print (\"\\n{}: \\n\".format(clf.__class__.__name__))\n",
        "    # for each classifier, train and predict with a different training set size ==> 100, 200, 300\n",
        "    for i, n in enumerate([100, 200, 300]):\n",
        "        train_predict(clf, X_train[:n], y_train[:n], X_test, y_test)\n",
        "        if i < 2: print (\"----------------\")\n",
        "            \n",
        "\n",
        "print (\"==============================================================\")\n",
        "print('''\n",
        "We can benchmark the F1 scores of each of the classifiers to the score below:\n",
        "''')\n",
        "print(\"F1 score for predicting all \\\"yes\\\" on test set:{:.4f}\".format(f1_score(y_test, ['yes']*len(y_test), pos_label='yes', average='binary')))\n",
        "\n",
        "# TODO: Execute the 'train_predict' function for each classifier and each training set size\n",
        "# train_predict(clf, X_train, y_train, X_test, y_test)"
      ],
      "execution_count": 18,
      "outputs": [
        {
          "output_type": "stream",
          "text": [
            "==============================================================\n",
            "\n",
            "SVC: \n",
            "\n",
            "Training a SVC using a training set size of 100. . .\n",
            "Trained model in 0.0090 seconds\n",
            "Made predictions in 0.0032 seconds.\n",
            "F1 score for training set: 0.8936.\n",
            "Made predictions in 0.0031 seconds.\n",
            "F1 score for test set: 0.7603.\n",
            "----------------\n",
            "Training a SVC using a training set size of 200. . .\n",
            "Trained model in 0.0065 seconds\n",
            "Made predictions in 0.0046 seconds.\n",
            "F1 score for training set: 0.8664.\n",
            "Made predictions in 0.0028 seconds.\n",
            "F1 score for test set: 0.7907.\n",
            "----------------\n",
            "Training a SVC using a training set size of 300. . .\n",
            "Trained model in 0.0151 seconds\n",
            "Made predictions in 0.0082 seconds.\n",
            "F1 score for training set: 0.8707.\n",
            "Made predictions in 0.0035 seconds.\n",
            "F1 score for test set: 0.7874.\n",
            "==============================================================\n",
            "\n",
            "DecisionTreeClassifier: \n",
            "\n",
            "Training a DecisionTreeClassifier using a training set size of 100. . .\n",
            "Trained model in 0.0032 seconds\n",
            "Made predictions in 0.0017 seconds.\n",
            "F1 score for training set: 1.0000.\n",
            "Made predictions in 0.0013 seconds.\n",
            "F1 score for test set: 0.6542.\n",
            "----------------\n",
            "Training a DecisionTreeClassifier using a training set size of 200. . .\n",
            "Trained model in 0.0033 seconds\n",
            "Made predictions in 0.0016 seconds.\n",
            "F1 score for training set: 1.0000.\n",
            "Made predictions in 0.0016 seconds.\n",
            "F1 score for test set: 0.7059.\n",
            "----------------\n",
            "Training a DecisionTreeClassifier using a training set size of 300. . .\n",
            "Trained model in 0.0042 seconds\n",
            "Made predictions in 0.0017 seconds.\n",
            "F1 score for training set: 1.0000.\n",
            "Made predictions in 0.0015 seconds.\n",
            "F1 score for test set: 0.7379.\n",
            "==============================================================\n",
            "\n",
            "GaussianNB: \n",
            "\n",
            "Training a GaussianNB using a training set size of 100. . .\n",
            "Trained model in 0.0023 seconds\n",
            "Made predictions in 0.0018 seconds.\n",
            "F1 score for training set: 0.8244.\n",
            "Made predictions in 0.0012 seconds.\n",
            "F1 score for test set: 0.7568.\n",
            "----------------\n",
            "Training a GaussianNB using a training set size of 200. . .\n",
            "Trained model in 0.0027 seconds\n",
            "Made predictions in 0.0012 seconds.\n",
            "F1 score for training set: 0.8151.\n",
            "Made predictions in 0.0015 seconds.\n",
            "F1 score for test set: 0.7222.\n",
            "----------------\n",
            "Training a GaussianNB using a training set size of 300. . .\n",
            "Trained model in 0.0028 seconds\n",
            "Made predictions in 0.0018 seconds.\n",
            "F1 score for training set: 0.8134.\n",
            "Made predictions in 0.0011 seconds.\n",
            "F1 score for test set: 0.7593.\n",
            "==============================================================\n",
            "\n",
            "We can benchmark the F1 scores of each of the classifiers to the score below:\n",
            "\n",
            "F1 score for predicting all \"yes\" on test set:0.7939\n"
          ],
          "name": "stdout"
        },
        {
          "output_type": "stream",
          "text": [
            "/usr/local/lib/python2.7/dist-packages/sklearn/svm/base.py:196: FutureWarning: The default value of gamma will change from 'auto' to 'scale' in version 0.22 to account better for unscaled features. Set gamma explicitly to 'auto' or 'scale' to avoid this warning.\n",
            "  \"avoid this warning.\", FutureWarning)\n"
          ],
          "name": "stderr"
        }
      ]
    },
    {
      "cell_type": "markdown",
      "metadata": {
        "id": "vt2Fk9gKzyxs",
        "colab_type": "text"
      },
      "source": [
        "## Choosing the Best Model\n",
        "In this final section, you will choose from the three supervised learning models the *best* model to use on the student data. You will then perform a grid search optimization for the model over the entire training set (`X_train` and `y_train`) by tuning at least one parameter to improve upon the untuned model's F<sub>1</sub> score. "
      ]
    },
    {
      "cell_type": "markdown",
      "metadata": {
        "id": "5GLT2PIrzyxt",
        "colab_type": "text"
      },
      "source": [
        "### Question 3 - Choosing the Best Model\n",
        "*Based on the experiments you performed earlier, in one to two paragraphs, explain to the board of supervisors what single model you chose as the best model. Which model is generally the most appropriate based on the available data, limited resources, cost, and performance?*"
      ]
    },
    {
      "cell_type": "markdown",
      "metadata": {
        "id": "GtR1YmfQzyxy",
        "colab_type": "text"
      },
      "source": [
        "### Question 4 - Model in Layman's Terms\n",
        "*In one to two paragraphs, explain to the board of directors in layman's terms how the final model chosen is supposed to work. Be sure that you are describing the major qualities of the model, such as how the model is trained and how the model makes a prediction. Avoid using advanced mathematical or technical jargon, such as describing equations or discussing the algorithm implementation.*"
      ]
    },
    {
      "cell_type": "markdown",
      "metadata": {
        "id": "f36Vemi0zyx0",
        "colab_type": "text"
      },
      "source": [
        "**Answer: **"
      ]
    },
    {
      "cell_type": "markdown",
      "metadata": {
        "id": "n2_DWQfFzyx4",
        "colab_type": "text"
      },
      "source": [
        "### Implementation: Model Tuning\n",
        "Fine tune the chosen model. Use grid search (`GridSearchCV`) with at least one important parameter tuned with at least 3 different values. You will need to use the entire training set for this. In the code cell below, you will need to implement the following:\n",
        "- Import [`sklearn.grid_search.GridSearchCV`](http://scikit-learn.org/0.17/modules/generated/sklearn.grid_search.GridSearchCV.html) and [`sklearn.metrics.make_scorer`](http://scikit-learn.org/stable/modules/generated/sklearn.metrics.make_scorer.html).\n",
        "- Create a dictionary of parameters you wish to tune for the chosen model.\n",
        " - Example: `parameters = {'parameter' : [list of values]}`.\n",
        "- Initialize the classifier you've chosen and store it in `clf`.\n",
        "- Create the F<sub>1</sub> scoring function using `make_scorer` and store it in `f1_scorer`.\n",
        " - Set the `pos_label` parameter to the correct value!\n",
        "- Perform grid search on the classifier `clf` using `f1_scorer` as the scoring method, and store it in `grid_obj`.\n",
        "- Fit the grid search object to the training data (`X_train`, `y_train`), and store it in `grid_obj`."
      ]
    },
    {
      "cell_type": "code",
      "metadata": {
        "id": "-sQnmGQjzyx7",
        "colab_type": "code",
        "colab": {
          "base_uri": "https://localhost:8080/",
          "height": 108
        },
        "outputId": "f57ca01b-9d04-41c6-aab0-1c90176ded1a"
      },
      "source": [
        "from sklearn.model_selection import GridSearchCV\n",
        "from sklearn.metrics import make_scorer, f1_score\n",
        "\n",
        "# Create the parameters list you wish to tune\n",
        "parameters = {'kernel':('linear', 'poly', 'rbf', 'sigmoid')}\n",
        "\n",
        "# Initialize the classifier\n",
        "clf = SVC()\n",
        "\n",
        "# Make an f1 scoring function using 'make_scorer' \n",
        "f1_scorer = make_scorer(f1_score, pos_label = 'yes')\n",
        "\n",
        "# Perform grid search on the classifier using the f1_scorer as the scoring method\n",
        "grid_obj = GridSearchCV(clf, parameters, f1_scorer)\n",
        "\n",
        "# Fit the grid search object to the training data and find the optimal parameters\n",
        "grid_obj = grid_obj.fit(X_train, y_train)\n",
        "\n",
        "# Get the estimator\n",
        "clf = grid_obj.best_estimator_\n",
        "\n",
        "# Report the final F1 score for training and testing after parameter tuning\n",
        "print (\"Tuned model has a training F1 score of {:.4f}.\".format(predict_labels(clf, X_train, y_train)))\n",
        "print (\"Tuned model has a testing F1 score of {:.4f}.\".format(predict_labels(clf, X_test, y_test)))\n",
        "print (\"Best params are: {}\".format(grid_obj.best_params_))"
      ],
      "execution_count": 21,
      "outputs": [
        {
          "output_type": "stream",
          "text": [
            "Made predictions in 0.0080 seconds.\n",
            "Tuned model has a training F1 score of 0.8671.\n",
            "Made predictions in 0.0035 seconds.\n",
            "Tuned model has a testing F1 score of 0.7874.\n",
            "Best params are: {'kernel': 'rbf'}\n"
          ],
          "name": "stdout"
        }
      ]
    }
  ]
}